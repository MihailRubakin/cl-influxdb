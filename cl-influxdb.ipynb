{
 "cells": [
  {
   "cell_type": "markdown",
   "metadata": {
    "collapsed": false
   },
   "source": [
    "CL-INFLUXDB\n",
    "-------------\n",
    "\n",
    "This package is a native Common Lisp interface for the InfluxDB time series database.\n",
    "\n",
    "[InfluxDB](http://influxdb.org) is a scalable time series database.\n",
    "\n",
    "News\n",
    "----\n",
    "Due to major changes in InfluxDB in starting with version 0.9 seperate packages have been created to work with the versions less than 0.9 and versions 0.9 and greater. The interface `cl-influxdb` that works with version 0.8 and below has been changed to `cl-influxdb-v8` specific information regarding the v8 interface can be obtained by reading README-v8.md.The interface that works with 0.9 is now `cl-influxdb`.\n",
    "    \n",
    "One of the major changes in version 0.9 and above is that much functionality including most administrative functions have been pulled into the InfluxDB query language. Therefor many of the administrative interface functions have been removed from this interface.\n",
    "\n",
    "Installation\n",
    "------------\n",
    "cl-influxdb is distributed via [Quicklisp](http://quicklisp.ort).\n",
    "It can also be obtained via it's [github repository] (http://github.com/mmaul/cl-influxdb)\n",
    "\n",
    "Usage\n",
    "------\n",
    "For query and administrative commands see the [InfluxDB Documentation](https://influxdb.com/docs/v0.9/). All administrative commands are issued via the `query` method.\n",
    "\n",
    "Load library and create a instance of class INFLUXDB, using the default is\n",
    "user = root, password = root, host = 127.0.0.1, port = 8086.\n"
   ]
  },
  {
   "cell_type": "code",
   "execution_count": 35,
   "metadata": {
    "collapsed": false
   },
   "outputs": [
    {
     "name": "stdout",
     "output_type": "stream",
     "text": [
      "To load \"cl-influxdb\":\n",
      "  Load 1 ASDF system:\n",
      "    cl-influxdb\n",
      "\n",
      "; Loading \"cl-influxdb\"\n",
      "..........\n"
     ]
    },
    {
     "data": {
      "text/plain": [
       "(:CL-INFLUXDB)"
      ]
     },
     "execution_count": 35,
     "metadata": {},
     "output_type": "execute_result"
    }
   ],
   "source": [
    "(ql:quickload :cl-influxdb)       "
   ]
  },
  {
   "cell_type": "code",
   "execution_count": 2,
   "metadata": {
    "collapsed": false
   },
   "outputs": [
    {
     "data": {
      "text/plain": [
       "#<PACKAGE \"CL-INFLUXDB-EXAMPLE\">"
      ]
     },
     "execution_count": 2,
     "metadata": {},
     "output_type": "execute_result"
    }
   ],
   "source": [
    "(defpackage #:cl-influxdb-example\n",
    "  (:use #:cl #:cl-influxdb\n",
    "        ))"
   ]
  },
  {
   "cell_type": "code",
   "execution_count": 3,
   "metadata": {
    "collapsed": false
   },
   "outputs": [
    {
     "data": {
      "text/plain": [
       "#<PACKAGE \"CL-INFLUXDB-EXAMPLE\">"
      ]
     },
     "execution_count": 3,
     "metadata": {},
     "output_type": "execute_result"
    }
   ],
   "source": [
    "(in-package :cl-influxdb-example)"
   ]
  },
  {
   "cell_type": "markdown",
   "metadata": {},
   "source": [
    "Lets create a instance of class INFLUXDB to get started the default is\n",
    "user = root, password = root, host = 127.0.0.1, port = 8086."
   ]
  },
  {
   "cell_type": "code",
   "execution_count": 4,
   "metadata": {
    "collapsed": false
   },
   "outputs": [
    {
     "data": {
      "text/plain": [
       "INFLUXDB"
      ]
     },
     "execution_count": 4,
     "metadata": {},
     "output_type": "execute_result"
    }
   ],
   "source": [
    "(defparameter influxdb  (make-instance 'influxdb :database \"cl_influxdb_example\" :user \"root\" :password \"root\"))    "
   ]
  },
  {
   "cell_type": "code",
   "execution_count": 5,
   "metadata": {
    "collapsed": false
   },
   "outputs": [
    {
     "data": {
      "text/plain": [
       "T"
      ]
     },
     "execution_count": 5,
     "metadata": {},
     "output_type": "execute_result"
    }
   ],
   "source": [
    "(ping influxdb)"
   ]
  },
  {
   "cell_type": "markdown",
   "metadata": {},
   "source": [
    "Create a database, or if the database already exists handle the `command-fail` condition."
   ]
  },
  {
   "cell_type": "code",
   "execution_count": 46,
   "metadata": {
    "collapsed": false
   },
   "outputs": [
    {
     "data": {
      "text/plain": [
       "T"
      ]
     },
     "execution_count": 46,
     "metadata": {},
     "output_type": "execute_result"
    }
   ],
   "source": [
    "(handler-case (create-database influxdb \"cl_influxdb_example\" ) (command-fail (e) e))"
   ]
  },
  {
   "cell_type": "markdown",
   "metadata": {},
   "source": [
    "Data is writtent by populating a influxdb-data structure and writing it to the database"
   ]
  },
  {
   "cell_type": "code",
   "execution_count": 48,
   "metadata": {
    "collapsed": false
   },
   "outputs": [
    {
     "data": {
      "text/plain": [
       "T"
      ]
     },
     "execution_count": 48,
     "metadata": {},
     "output_type": "execute_result"
    }
   ],
   "source": [
    "(write-points influxdb \n",
    "    (make-influxdb-data :key :response_times :tags '((:host . \"server1\") (:region . \"one\")) \n",
    "        :columns '(:t1 :v1 :c1) \n",
    "        :points '((1394761721 \"Y\" 1.0 1442377210) \n",
    "                  (1394761722 \"X\" 2.0 1442377211)))\n",
    "                  :time-precision :s)"
   ]
  },
  {
   "cell_type": "code",
   "execution_count": 49,
   "metadata": {
    "collapsed": false
   },
   "outputs": [
    {
     "data": {
      "text/plain": [
       "((:RESULTS\n",
       "  ((:SERIES\n",
       "    ((:NAME . \"response_times\") (:COLUMNS \"time\" \"v1\" \"c1\" \"t1\")\n",
       "     (:VALUES (\"2015-09-16T04:20:10Z\" \"Y\" 1 1394761721)\n",
       "      (\"2015-09-16T04:20:11Z\" \"X\" 2 1394761722)))))))"
      ]
     },
     "execution_count": 49,
     "metadata": {},
     "output_type": "execute_result"
    }
   ],
   "source": [
    "(query influxdb \"select time,v1,c1,t1 from response_times;\")"
   ]
  },
  {
   "cell_type": "markdown",
   "metadata": {},
   "source": [
    "Now clean up and drop the database"
   ]
  },
  {
   "cell_type": "code",
   "execution_count": 50,
   "metadata": {
    "collapsed": false
   },
   "outputs": [
    {
     "data": {
      "text/plain": [
       "((:RESULTS NIL))"
      ]
     },
     "execution_count": 50,
     "metadata": {},
     "output_type": "execute_result"
    }
   ],
   "source": [
    "(query influxdb \"drop database cl_influxdb_example\")"
   ]
  },
  {
   "cell_type": "markdown",
   "metadata": {},
   "source": [
    "License\n",
    "====\n",
    "The MIT License (MIT)\n",
    "\n",
    "Copyright (c) 2014 Michael Maul\n",
    "\n",
    "Permission is hereby granted, free of charge, to any person obtaining a copy of\n",
    "this software and associated documentation files (the \"Software\"), to deal in\n",
    "the Software without restriction, including without limitation the rights to\n",
    "use, copy, modify, merge, publish, distribute, sublicense, and/or sell copies of\n",
    "the Software, and to permit persons to whom the Software is furnished to do so,\n",
    "subject to the following conditions:\n",
    "\n",
    "The above copyright notice and this permission notice shall be included in all\n",
    "copies or substantial portions of the Software.\n",
    "\n",
    "THE SOFTWARE IS PROVIDED \"AS IS\", WITHOUT WARRANTY OF ANY KIND, EXPRESS OR\n",
    "IMPLIED, INCLUDING BUT NOT LIMITED TO THE WARRANTIES OF MERCHANTABILITY, FITNESS\n",
    "FOR A PARTICULAR PURPOSE AND NONINFRINGEMENT. IN NO EVENT SHALL THE AUTHORS OR\n",
    "COPYRIGHT HOLDERS BE LIABLE FOR ANY CLAIM, DAMAGES OR OTHER LIABILITY, WHETHER\n",
    "IN AN ACTION OF CONTRACT, TORT OR OTHERWISE, ARISING FROM, OUT OF OR IN\n",
    "CONNECTION WITH THE SOFTWARE OR THE USE OR OTHER DEALINGS IN THE SOFTWARE.\n"
   ]
  }
 ],
 "metadata": {
  "kernelspec": {
   "display_name": "SBCL Lisp",
   "language": "lisp",
   "name": "lisp"
  },
  "language_info": {
   "name": "common-lisp",
   "version": "1.2.7"
  }
 },
 "nbformat": 4,
 "nbformat_minor": 0
}
